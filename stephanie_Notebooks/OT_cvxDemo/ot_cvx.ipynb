{
  "nbformat": 4,
  "nbformat_minor": 0,
  "metadata": {
    "colab": {
      "provenance": [],
      "authorship_tag": "ABX9TyPhFpCLybykI4L45fB3Cdws",
      "include_colab_link": true
    },
    "kernelspec": {
      "name": "python3",
      "display_name": "Python 3"
    },
    "language_info": {
      "name": "python"
    }
  },
  "cells": [
    {
      "cell_type": "markdown",
      "metadata": {
        "id": "view-in-github",
        "colab_type": "text"
      },
      "source": [
        "<a href=\"https://colab.research.google.com/github/Ehsan494/Algorithms-for-convex-surface-reconstruction/blob/main/stephanie_Notebooks/OT_cvxDemo/ot_cvx.ipynb\" target=\"_parent\"><img src=\"https://colab.research.google.com/assets/colab-badge.svg\" alt=\"Open In Colab\"/></a>"
      ]
    },
    {
      "cell_type": "code",
      "execution_count": null,
      "metadata": {
        "id": "wzsQrlhNPgnG"
      },
      "outputs": [],
      "source": [
        "import cvxpy as cp\n",
        "import numpy as np\n",
        "import matplotlib.pyplot as plt\n",
        "from matplotlib.gridspec import GridSpec\n",
        "\n",
        "# Define two discrete probability distributions (source a, target b)\n",
        "#    Here we have 3 source locations and 3 target locations.\n",
        "a = np.array([0.4, 0.4, 0.2])   # source weights (must sum to 1)\n",
        "b = np.array([0.5, 0.2, 0.3])   # target weights (must sum to 1)\n",
        "\n",
        "# Assign positions on the real line to each point\n",
        "x = np.array([0.0, 1.0, 2.0])   # source locations\n",
        "y = np.array([0.0, 2.0, 3.0])   # target locations\n",
        "\n",
        "# Build the cost matrix C_ij = |x_i - y_j|^2\n",
        "C = (x[:, None] - y[None, :])**2\n",
        "\n",
        "# Create the transport‐plan variable P ∈ ℝ^{3×3}, P ≥ 0\n",
        "P = cp.Variable(C.shape, nonneg=True)\n",
        "\n",
        "# Impose the marginals:\n",
        "#   - Sum over rows i of P[i,j] == b[j]  (each target mass is matched)\n",
        "#   - Sum over cols j of P[i,j] == a[i]  (all source mass is shipped)\n",
        "constraints = [\n",
        "    cp.sum(P, axis=1) == a,\n",
        "    cp.sum(P, axis=0) == b\n",
        "]\n",
        "\n",
        "# Objective: minimize total cost ∑_{i,j} C[i,j] * P[i,j]\n",
        "objective = cp.Minimize(cp.sum(cp.multiply(C, P)))\n",
        "\n",
        "# Solve the linear program\n",
        "prob = cp.Problem(objective, constraints)\n",
        "opt_cost = prob.solve()\n",
        "\n",
        "print(f\"Optimal transport cost: {opt_cost:.4f}\")\n",
        "print(\"Optimal transport plan P (rows = source i, cols = target j):\")\n",
        "print(P.value)\n",
        "\n",
        "# --- Combined visualization in one window ---\n",
        "fig = plt.figure(figsize=(12, 6), constrained_layout=True)\n",
        "gs = GridSpec(2, 2, width_ratios=[1, 1], height_ratios=[1, 1])\n",
        "\n",
        "# Top‐left: source distribution (hide its x‐tick labels to avoid clutter)\n",
        "ax_src = fig.add_subplot(gs[0, 0])\n",
        "ax_src.bar(x, a, width=0.1, align='center')\n",
        "ax_src.set_title(\"Source Distribution\")\n",
        "ax_src.set_ylabel(\"Mass $a_i$\")\n",
        "ax_src.grid(axis='y', linestyle='--', alpha=0.5)\n",
        "ax_src.tick_params(labelbottom=False)              # hide x‐labels here\n",
        "\n",
        "# Bottom‐left: target distribution, sharing x-axis with source\n",
        "ax_tgt = fig.add_subplot(gs[1, 0], sharex=ax_src)\n",
        "ax_tgt.bar(y, b, width=0.1, align='center', color='C1')\n",
        "ax_tgt.set_title(\"Target Distribution\")\n",
        "ax_tgt.set_xlabel(\"Position\")\n",
        "ax_tgt.set_ylabel(\"Mass $b_j$\")\n",
        "ax_tgt.grid(axis='y', linestyle='--', alpha=0.5)\n",
        "\n",
        "# Right (spanning both rows): flow diagram\n",
        "ax_flow = fig.add_subplot(gs[:, 1])\n",
        "for i in range(len(x)):\n",
        "    for j in range(len(y)):\n",
        "        w = P.value[i, j]\n",
        "        if w > 1e-8:\n",
        "            ax_flow.plot([x[i], y[j]], [1, 0],\n",
        "                         linewidth=8 * w, color='black', alpha=0.6)\n",
        "            mx = (x[i] + y[j]) / 2 # label at midpoint\n",
        "            ax_flow.text(mx, 0.5, f\"{w:.2f}\",\n",
        "                         fontsize=9, ha='center', va='center',\n",
        "                         backgroundcolor='white', alpha=0.7)\n",
        "\n",
        "\n",
        "# draw source/target nodes\n",
        "ax_flow.scatter(x, np.ones_like(x), s=800 * a, c='C0', label='Sources')\n",
        "ax_flow.scatter(y, np.zeros_like(y), s=800 * b, c='C1', label='Targets')\n",
        "ax_flow.set_yticks([])\n",
        "ax_flow.set_xlabel(\"Position\")\n",
        "ax_flow.set_title(\"Optimal Transport Plan\")\n",
        "ax_flow.legend(loc='upper right', labelspacing=1.5, borderpad=1.0)\n",
        "\n",
        "plt.show()"
      ]
    }
  ]
}