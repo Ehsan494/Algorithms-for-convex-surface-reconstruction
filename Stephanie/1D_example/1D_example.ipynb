{
 "cells": [
  {
   "cell_type": "code",
   "execution_count": 1,
   "id": "c046df76",
   "metadata": {},
   "outputs": [],
   "source": [
    "import numpy as np\n",
    "import matplotlib.pyplot as plt\n",
    "import cvxpy as cp\n",
    "import scipy.sparse as sps"
   ]
  },
  {
   "cell_type": "code",
   "execution_count": 2,
   "id": "09573946",
   "metadata": {},
   "outputs": [],
   "source": [
    "def SigmoidalBasis(A,b,x):\n",
    "    n = len(A)\n",
    "    phi = np.empty((n,len(x)))\n",
    "    u = np.empty(len(x))\n",
    "                   \n",
    "    for k in range(n):\n",
    "        u = A[k]*x+b[k]\n",
    "        #phi[k] = 1/(1+np.exp(-u)) # Sigmoid activation function\n",
    "        phi[k] = np.max(u,0)       # RelU activation function\n",
    "                   \n",
    "    return phi\n",
    "    \n",
    "# def SigmoidalBasisDerivative(A,b,x):\n",
    "#     n = len(A)\n",
    "#     Dphi = np.empty((n,len(x)))\n",
    "#     u = np.empty(len(x))\n",
    "                   \n",
    "#     for k in range(n):\n",
    "#         u = A[k]*x+b[k]\n",
    "#         Dphi[k] = A[k]*np.exp(-u)/((1+np.exp(-u))**2)\n",
    "                   \n",
    "#     return Dphi    \n"
   ]
  },
  {
   "cell_type": "markdown",
   "id": "f2f21be9",
   "metadata": {},
   "source": [
    "We are going to solve the following 1-D OT problem\n",
    "\n",
    "\n",
    "$$\\text{Maximize} \\int_0^1 \\phi(x)dx + \\int_0^1\\psi(y)dy$$\n",
    "$$\\text{subject to } \\quad\\quad \\phi(x)+\\psi(y) \\leq |x-y|^2 \\;\\forall\\;x,y\\in[0,1]$$\n",
    "\n",
    "If $\\phi_*,\\psi_*$ are the optimizers for this problem, then the optimal transport map should be given by\n",
    "\n",
    "$T(x) = y(x) \\text{ s.t. } \\phi_*(x)+\\psi_*(y(x)) = |x-y(x)|^2$ $\\Leftrightarrow$  $\\nabla \\phi_*(x) = 2(x-y(x))$ (this is because we have a critical point)\n",
    "\n",
    "This tell us that \n",
    "\n",
    "$$T(x) = x- \\frac{1}{2}\\nabla \\phi_*(x) = \\nabla ( \\frac{1}{2}|x|^2-\\frac{1}{2}\\phi_*(x))$$\n",
    "\n",
    "\n",
    "We are going to take $k$ equally space points in $[0,1]$"
   ]
  },
  {
   "cell_type": "code",
   "execution_count": 18,
   "id": "94cc24f8",
   "metadata": {},
   "outputs": [],
   "source": [
    "k = 100\n",
    "t = np.linspace(0,1,k)\n",
    "\n",
    "# Sigmoidal basis (random inner weights):\n",
    "n = 5\n",
    "A = 10*(np.random.uniform(size=n)-0.5)\n",
    "b = 10*(np.random.uniform(size=n)-0.5)\n",
    "\n",
    "basis = SigmoidalBasis(A,b,t)\n",
    "#Dbasis = SigmoidalBasisDerivative(A,b,t)\n",
    "\n",
    "c = np.empty((k,k))\n",
    "\n",
    "# Generates the k x k matrix of distances $|x_i-x_j|^2$\n",
    "for i in range(k):\n",
    "    for j in range(k):\n",
    "        c[i,j] = (i-j)**2\n",
    "\n",
    "cost = c/((k-1)**2)    "
   ]
  },
  {
   "cell_type": "code",
   "execution_count": 19,
   "id": "55a1532d",
   "metadata": {},
   "outputs": [],
   "source": [
    "# Here is where CVX (CVXPY) comes in\n",
    "# Setting up the particular problem\n",
    "\n",
    "# We are declaring the variables (to be optimized) phi and psi\n",
    "# which are here the vector of coefficients for the functions in the function basis\n",
    "# \"basis\" from earlier\n",
    "\n",
    "phi = cp.Variable(len(basis.T[0]))\n",
    "psi = cp.Variable(len(basis.T[0]))\n",
    "\n",
    "f = np.ones(k) # source density\n",
    "g = np.ones(k) # target density"
   ]
  },
  {
   "cell_type": "code",
   "execution_count": 20,
   "id": "77acc830",
   "metadata": {},
   "outputs": [
    {
     "data": {
      "text/plain": [
       "-3.5356871855626165e-06"
      ]
     },
     "execution_count": 20,
     "metadata": {},
     "output_type": "execute_result"
    }
   ],
   "source": [
    "# Declare constraints\n",
    "# This encodes the constraint that phi(x_i)+psi(y_j) <= c(x_i,x_j)\n",
    "# as a matrix inequality\n",
    "constraints = [cp.bmat(k*[basis.T @ phi]) + cp.bmat(k*[basis.T @ psi]).T  <= cost]\n",
    "\n",
    "#constraints = [cp.outer(cp.exp(phi @ basis),cp.exp(psi @ basis)) <= cp.exp(cost)]\n",
    "\n",
    "# declare we are maximizing sum of integrals of phi and psi, under the given constraints\n",
    "prob = cp.Problem(cp.Maximize((basis.T @ phi) @ f + (basis.T @ psi) @ g), constraints)\n",
    "\n",
    "prob.solve(verbose= False, solver = 'SCS')\n"
   ]
  },
  {
   "cell_type": "code",
   "execution_count": 8,
   "id": "63ead5af",
   "metadata": {},
   "outputs": [],
   "source": [
    "# Generating the arrays for\n",
    "# |x|^2/2-\\phi(x)/2 and\n",
    "# |y|^2/2-\\psi(y)/2\n",
    "\n",
    "sol1 = (0.5)*(t**2)-(0.5)*(basis.T @ phi.value)\n",
    "sol2 = (0.5)*(t**2)-(0.5)*(basis.T @ psi.value)\n"
   ]
  },
  {
   "cell_type": "code",
   "execution_count": 12,
   "id": "262ff7bf",
   "metadata": {},
   "outputs": [
    {
     "name": "stdout",
     "output_type": "stream",
     "text": [
      "-9.238339730710532e-07\n",
      "-9.238339730988088e-07\n"
     ]
    },
    {
     "data": {
      "image/png": "[encoded data removed]",
      "text/plain": [
       "<Figure size 432x288 with 1 Axes>"
      ]
     },
     "metadata": {
      "needs_background": "light"
     },
     "output_type": "display_data"
    }
   ],
   "source": [
    "plt.plot(t,sol1)\n",
    "plt.plot(t,sol2)\n",
    "plt.plot(t,(0.5)*(t**2))\n",
    "print(np.max(sol1-(0.5)*(t**2)))\n",
    "print(np.min(sol1-(0.5)*(t**2)))"
   ]
  },
  {
   "cell_type": "code",
   "execution_count": null,
   "id": "0b7d4329",
   "metadata": {},
   "outputs": [],
   "source": [
    "x = np.array([1,0,1])\n",
    "y = np.array([0,1,0])\n",
    "\n",
    "M = cp.bmat(3*[x])\n",
    "N = cp.bmat(3*[y]).T"
   ]
  },
  {
   "cell_type": "code",
   "execution_count": null,
   "id": "7020a373",
   "metadata": {},
   "outputs": [],
   "source": [
    "print(M.value)\n",
    "print(N.value)"
   ]
  },
  {
   "cell_type": "markdown",
   "id": "c10afe76",
   "metadata": {},
   "source": [
    "1. Extend this to more general source/target densities\n",
    "2. Extend this to 2D problem (how to represent $\\Omega$, $\\bar \\Omega$, $f$, $g$?)\n",
    "3. Optimize the code so large values of n and k can be given\n",
    "\n"
   ]
  },
  {
   "cell_type": "code",
   "execution_count": null,
   "id": "53b03ca1",
   "metadata": {},
   "outputs": [],
   "source": []
  }
 ],
 "metadata": {
  "kernelspec": {
   "display_name": "Python 3 (ipykernel)",
   "language": "python",
   "name": "python3"
  },
  "language_info": {
   "codemirror_mode": {
    "name": "ipython",
    "version": 3
   },
   "file_extension": ".py",
   "mimetype": "text/x-python",
   "name": "python",
   "nbconvert_exporter": "python",
   "pygments_lexer": "ipython3",
   "version": "3.8.12"
  }
 },
 "nbformat": 4,
 "nbformat_minor": 5
}
