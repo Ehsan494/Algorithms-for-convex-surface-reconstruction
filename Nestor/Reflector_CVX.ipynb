{
 "cells": [
  {
   "cell_type": "code",
   "execution_count": 2,
   "id": "83446fe9",
   "metadata": {},
   "outputs": [],
   "source": [
    "import numpy as np \n",
    "import matplotlib.pyplot as plt\n",
    "import cvxpy as cp\n",
    "\n",
    "import polyscope as ps"
   ]
  },
  {
   "cell_type": "code",
   "execution_count": null,
   "id": "d6290761",
   "metadata": {},
   "outputs": [],
   "source": [
    "def SigmoidalBasis(A,b,x):\n",
    "    \n",
    "    n = len(A)\n",
    "    coef = np.array(len(x)*[b]).T\n",
    "\n",
    "    u = A @ x.T + coef\n",
    "    return np.fmax(u,0)\n",
    "\n",
    "def LogCost(X,Y):\n",
    "    cost = np.empty((len(X),len(Y)))\n",
    "\n",
    "    for i in range(len(X)):\n",
    "        for j in range(len(Y)):\n",
    "            cost[i,j] = np.log(1-X[i] @ Y[j])\n",
    "\n",
    "    return cost\n",
    "\n",
    "def ReflectorOT(X,Y,logcost,A,b):\n",
    "\n",
    "    phi_basis = SigmoidalBasis(A,b,X)\n",
    "    psi_basis = SigmoidalBasis(A,b,Y)\n",
    "    \n",
    "    phi = cp.Variable(len(phi_basis.T[0]))\n",
    "    psi = cp.Variable(len(psi_basis.T[0]))\n",
    "\n",
    "    constraints = [cp.bmat(len(X)*[phi_basis.T @ phi]) + cp.bmat(len(Y)*[psi_basis.T @ psi]).T  <= logcost]\n",
    "\n",
    "    prob = cp.Problem(cp.Maximize(cp.mean(phi_basis.T @ phi)  + cp.mean(psi_basis.T @ psi)), constraints)\n",
    "\n",
    "    prob.solve(verbose= False, solver = 'SCS')\n",
    "\n",
    "    return phi.value, psi.value, phi_basis, psi_basis\n",
    "\n",
    "\n",
    "def RandSphereCap(x,v1,v2,r,N):\n",
    "    r = np.random.uniform(0,r,size=N)\n",
    "    theta = np.random.uniform(0,2*np.pi,size=N)\n",
    "\n",
    "    flat_points = np.array([ np.sqrt(r[i])*(np.cos(theta[i])*v1+np.sin(theta[i])*v2) for i in range(N)])\n",
    "\n",
    "    points = [h + np.sqrt(1-h@h)*x for h in flat_points]\n",
    "    \n",
    "    return np.array(points)\n"
   ]
  },
  {
   "cell_type": "code",
   "execution_count": 4,
   "id": "06de22cf",
   "metadata": {},
   "outputs": [],
   "source": [
    "e = np.eye(3)\n",
    "N = 100\n",
    "\n",
    "X = RandSphereCap(e[0],e[1],e[2],0.3,N)\n",
    "Y = RandSphereCap(e[1],e[0],e[2],0.2,N)\n",
    "\n",
    "C = LogCost(X,Y)"
   ]
  },
  {
   "cell_type": "code",
   "execution_count": null,
   "id": "c8c23d5b",
   "metadata": {},
   "outputs": [
    {
     "name": "stdout",
     "output_type": "stream",
     "text": [
      "[polyscope] Backend: openGL3_glfw -- Loaded openGL version: 4.1 Metal - 83.1\n"
     ]
    },
    {
     "ename": "",
     "evalue": "",
     "output_type": "error",
     "traceback": [
      "\u001b[1;31mThe Kernel crashed while executing code in the current cell or a previous cell. \n",
      "\u001b[1;31mPlease review the code in the cell(s) to identify a possible cause of the failure. \n",
      "\u001b[1;31mClick <a href='https://aka.ms/vscodeJupyterKernelCrash'>here</a> for more info. \n",
      "\u001b[1;31mView Jupyter <a href='command:jupyter.viewOutput'>log</a> for further details."
     ]
    }
   ],
   "source": [
    "ps.init()\n",
    "ps.set_ground_plane_mode(\"none\")\n",
    "\n",
    "s_cloud = ps.register_point_cloud(\"source\", X)\n",
    "s_cloud.set_radius(0.005)\n",
    "s_cloud.set_point_render_mode(\"sphere\")\n",
    "\n",
    "t_cloud = ps.register_point_cloud(\"target\", Y)\n",
    "t_cloud.set_radius(0.005)\n",
    "t_cloud.set_point_render_mode(\"sphere\")\n",
    "\n",
    "s_cloud.set_color((0.10, 0.60, 0.90))  # blue\n",
    "t_cloud.set_color((0.90, 0.20, 0.20))  # red\n",
    "\n",
    "#ps.show()\n"
   ]
  },
  {
   "cell_type": "code",
   "execution_count": 4,
   "id": "fb090342",
   "metadata": {},
   "outputs": [
    {
     "name": "stderr",
     "output_type": "stream",
     "text": [
      "/opt/anaconda3/envs/LinOpt2/lib/python3.10/site-packages/cvxpy/problems/problem.py:164: UserWarning: Constraint #0 contains too many subexpressions. Consider vectorizing your CVXPY code to speed up compilation.\n",
      "  warnings.warn(f\"Constraint #{i} contains too many subexpressions. \"\n"
     ]
    }
   ],
   "source": [
    "k = 50 # number of neurons\n",
    "\n",
    "A = 10*(np.random.rand(k,3)-(0.5)*np.ones((k,3)) )\n",
    "b = 10*(np.random.rand(k)-0.5*np.ones(k))\n",
    "\n",
    "phi, basis1, basis2 = ReflectorOT(X,Y,C,A,b)"
   ]
  },
  {
   "cell_type": "code",
   "execution_count": 8,
   "id": "028d9400",
   "metadata": {},
   "outputs": [],
   "source": [
    "phi_vals = basis1.T @ phi\n",
    "rho = np.exp(phi_vals)\n",
    "\n",
    "R = np.empty(X.shape)\n",
    "for k in range(len(rho)):\n",
    "    R[k] = rho[k]*X[k]\n"
   ]
  },
  {
   "cell_type": "code",
   "execution_count": 9,
   "id": "f2b97b78",
   "metadata": {},
   "outputs": [
    {
     "data": {
      "text/plain": [
       "[<matplotlib.lines.Line2D at 0x147b1d510>]"
      ]
     },
     "execution_count": 9,
     "metadata": {},
     "output_type": "execute_result"
    },
    {
     "data": {
      "image/png": "[encoded data removed]",
      "text/plain": [
       "<Figure size 640x480 with 1 Axes>"
      ]
     },
     "metadata": {},
     "output_type": "display_data"
    }
   ],
   "source": [
    "plt.plot(phi)"
   ]
  },
  {
   "cell_type": "code",
   "execution_count": 6,
   "id": "ce728cb3",
   "metadata": {},
   "outputs": [
    {
     "name": "stdout",
     "output_type": "stream",
     "text": [
      "[polyscope] Backend: openGL3_glfw -- Loaded openGL version: 4.1 Metal - 83.1\n"
     ]
    }
   ],
   "source": [
    "\n",
    "\n",
    "ps.init()\n",
    "ps.set_ground_plane_mode(\"none\")\n",
    "\n",
    "s_cloud = ps.register_point_cloud(\"source\", X)\n",
    "s_cloud.set_radius(0.005)\n",
    "s_cloud.set_point_render_mode(\"sphere\")\n",
    "\n",
    "t_cloud = ps.register_point_cloud(\"target\", Y)\n",
    "t_cloud.set_radius(0.005)\n",
    "t_cloud.set_point_render_mode(\"sphere\")\n",
    "\n",
    "r_cloud = ps.register_point_cloud(\"reflector\", R)\n",
    "r_cloud.set_radius(0.005)\n",
    "r_cloud.set_point_render_mode(\"sphere\")\n",
    "\n",
    "s_cloud.set_color((0.10, 0.60, 0.90))  # blue\n",
    "t_cloud.set_color((0.90, 0.20, 0.20))  # red\n",
    "r_cloud.set_color((0.10, 0.80, 0.10))  # green\n",
    "\n",
    "\n",
    "#ps.show()\n"
   ]
  },
  {
   "cell_type": "code",
   "execution_count": null,
   "id": "6f8974e0",
   "metadata": {},
   "outputs": [],
   "source": [
    "\n"
   ]
  }
 ],
 "metadata": {
  "kernelspec": {
   "display_name": "LinOpt2",
   "language": "python",
   "name": "python3"
  },
  "language_info": {
   "codemirror_mode": {
    "name": "ipython",
    "version": 3
   },
   "file_extension": ".py",
   "mimetype": "text/x-python",
   "name": "python",
   "nbconvert_exporter": "python",
   "pygments_lexer": "ipython3",
   "version": "3.10.14"
  }
 },
 "nbformat": 4,
 "nbformat_minor": 5
}
